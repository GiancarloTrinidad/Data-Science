{
  "nbformat": 4,
  "nbformat_minor": 0,
  "metadata": {
    "colab": {
      "provenance": [],
      "toc_visible": true,
      "include_colab_link": true
    },
    "kernelspec": {
      "name": "python3",
      "display_name": "Python 3"
    },
    "language_info": {
      "name": "python"
    }
  },
  "cells": [
    {
      "cell_type": "markdown",
      "metadata": {
        "id": "view-in-github",
        "colab_type": "text"
      },
      "source": [
        "<a href=\"https://colab.research.google.com/github/GiancarloTrinidad/Data-Science/blob/main/TRINIDAD_FINALS_DATA_SCIENCE_GAMER_TYPE_SEGMENTATION.ipynb\" target=\"_parent\"><img src=\"https://colab.research.google.com/assets/colab-badge.svg\" alt=\"Open In Colab\"/></a>"
      ]
    },
    {
      "cell_type": "markdown",
      "source": [
        "#Initialize and import the neccessary libraries"
      ],
      "metadata": {
        "id": "QZsVP14zglvw"
      }
    },
    {
      "cell_type": "code",
      "source": [
        "import pandas as pd\n",
        "import numpy as np"
      ],
      "metadata": {
        "id": "oqmLMomYgsu3"
      },
      "execution_count": null,
      "outputs": []
    },
    {
      "cell_type": "markdown",
      "source": [
        "#Dataset"
      ],
      "metadata": {
        "id": "LzZyVdbiQhs_"
      }
    },
    {
      "cell_type": "code",
      "execution_count": null,
      "metadata": {
        "id": "MaSmHNpgOfZ3"
      },
      "outputs": [],
      "source": [
        "df= pd.read_csv('/content/drive/Shareddrives/FINALS DATASETS/gaming_dataset.csv')\n",
        "df.head()\n"
      ]
    },
    {
      "cell_type": "markdown",
      "source": [
        "#EDA"
      ],
      "metadata": {
        "id": "45cHKjSkQkdz"
      }
    },
    {
      "cell_type": "code",
      "source": [
        "df.describe()"
      ],
      "metadata": {
        "id": "2uh1wLAWx14U"
      },
      "execution_count": null,
      "outputs": []
    },
    {
      "cell_type": "markdown",
      "source": [
        "##Any Insights on this Matter?"
      ],
      "metadata": {
        "id": "2G-IZQfHWBeF"
      }
    },
    {
      "cell_type": "code",
      "source": [
        "import seaborn as sns\n",
        "\n",
        "sns.pairplot(df)"
      ],
      "metadata": {
        "id": "02FgfqGaQBZ1"
      },
      "execution_count": null,
      "outputs": []
    },
    {
      "cell_type": "markdown",
      "source": [
        "##What Can you Say About the Plots and Distributions?"
      ],
      "metadata": {
        "id": "148ZSWcyhPrA"
      }
    },
    {
      "cell_type": "markdown",
      "source": [
        "#MODELLING"
      ],
      "metadata": {
        "id": "6A-gnY5bnid5"
      }
    },
    {
      "cell_type": "markdown",
      "source": [
        "##Gamer Type Segmentation Using K-Means"
      ],
      "metadata": {
        "id": "ErcUI2KAWMoA"
      }
    },
    {
      "cell_type": "markdown",
      "source": [
        "###Initialization"
      ],
      "metadata": {
        "id": "zukCBD_eWlcB"
      }
    },
    {
      "cell_type": "code",
      "source": [
        "import pandas as pd\n",
        "from sklearn.preprocessing import LabelEncoder, StandardScaler\n",
        "from sklearn.cluster import KMeans\n",
        "import matplotlib.pyplot as plt\n",
        "import seaborn as sns"
      ],
      "metadata": {
        "id": "KsyI7WSWWTBK"
      },
      "execution_count": null,
      "outputs": []
    },
    {
      "cell_type": "markdown",
      "source": [
        "###Load Dataset"
      ],
      "metadata": {
        "id": "4qD2FYvrWpci"
      }
    },
    {
      "cell_type": "code",
      "source": [
        "df = pd.read_csv('gaming_dataset.csv')"
      ],
      "metadata": {
        "id": "rLagPY-YWs6m"
      },
      "execution_count": null,
      "outputs": []
    },
    {
      "cell_type": "markdown",
      "source": [
        "###Pre-Processing and Feature Engineering"
      ],
      "metadata": {
        "id": "ypoRAS7WWxPB"
      }
    },
    {
      "cell_type": "code",
      "source": [
        "label_encoders = {}\n",
        "categorical_columns = ['game_demo_graphics', 'gender', 'preferred_genre']\n",
        "for column in categorical_columns:\n",
        "    le = LabelEncoder()\n",
        "    df[column] = le.fit_transform(df[column])\n",
        "    label_encoders[column] = le\n",
        "\n",
        "scaler = StandardScaler()\n",
        "numerical_columns = ['game_rating', 'playing_time', 'study_time', 'age']\n",
        "df[numerical_columns] = scaler.fit_transform(df[numerical_columns])\n",
        "\n",
        "X = df[['game_rating', 'playing_time', 'study_time', 'age', 'game_demo_graphics', 'gender']]\n",
        "\n",
        "inertia = []\n",
        "for n in range(1, 11):\n",
        "    kmeans = KMeans(n_clusters=n, random_state=42)\n",
        "    kmeans.fit(X)\n",
        "    inertia.append(kmeans.inertia_)\n",
        "\n",
        "plt.figure(figsize=(8, 5))\n",
        "plt.plot(range(1, 11, 1), inertia, marker='o')\n",
        "plt.title('Elbow Method For Optimal k')\n",
        "plt.xlabel('Number of clusters')\n",
        "plt.ylabel('Inertia')\n",
        "plt.show()\n",
        "\n",
        "optimal_clusters = 3"
      ],
      "metadata": {
        "id": "psfpMbnEW1MM"
      },
      "execution_count": null,
      "outputs": []
    },
    {
      "cell_type": "markdown",
      "source": [
        "###Model"
      ],
      "metadata": {
        "id": "cFxhuZ33XAnH"
      }
    },
    {
      "cell_type": "code",
      "source": [
        "kmeans = KMeans(n_clusters=optimal_clusters, random_state=42)\n",
        "df['cluster'] = kmeans.fit_predict(X)"
      ],
      "metadata": {
        "id": "GZMaYT3hXBaM"
      },
      "execution_count": null,
      "outputs": []
    },
    {
      "cell_type": "markdown",
      "source": [
        "###Analyze and Visualize Clusters"
      ],
      "metadata": {
        "id": "eg2b9jNlXD7Q"
      }
    },
    {
      "cell_type": "code",
      "source": [
        "# Denormalize the numerical columns for analysis\n",
        "df[numerical_columns] = scaler.inverse_transform(df[numerical_columns])\n",
        "\n",
        "# Analyze the clusters\n",
        "cluster_means = df.groupby('cluster').mean(numeric_only=True)\n",
        "print(cluster_means)"
      ],
      "metadata": {
        "id": "8gwMtxbFYrrt"
      },
      "execution_count": null,
      "outputs": []
    },
    {
      "cell_type": "code",
      "source": [
        "sns.pairplot(df, hue='cluster', palette='viridis', markers=['o', 's', 'D'])\n",
        "plt.show()"
      ],
      "metadata": {
        "id": "inTAQut-XKdV"
      },
      "execution_count": null,
      "outputs": []
    },
    {
      "cell_type": "markdown",
      "source": [
        "##Name the Cluster Based On Categories that you see (eg. High Playing Time, Hard Core Gamer, etc.) (No Wrong Answers)"
      ],
      "metadata": {
        "id": "ZEH5dzuDjqM6"
      }
    },
    {
      "cell_type": "markdown",
      "source": [
        "Hi Sir, I don't have access to the Finals Datasets folder in the Google Drive\n"
      ],
      "metadata": {
        "id": "EbMaYOCEgWcp"
      }
    }
  ]
}